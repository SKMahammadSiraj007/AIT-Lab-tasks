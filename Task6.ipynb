{
  "nbformat": 4,
  "nbformat_minor": 0,
  "metadata": {
    "colab": {
      "provenance": [],
      "authorship_tag": "ABX9TyN7VwWtNkPKhGprKWH8iII3",
      "include_colab_link": true
    },
    "kernelspec": {
      "name": "python3",
      "display_name": "Python 3"
    },
    "language_info": {
      "name": "python"
    }
  },
  "cells": [
    {
      "cell_type": "markdown",
      "metadata": {
        "id": "view-in-github",
        "colab_type": "text"
      },
      "source": [
        "<a href=\"https://colab.research.google.com/github/SKMahammadSiraj007/AIT-Lab-tasks/blob/main/Task6.ipynb\" target=\"_parent\"><img src=\"https://colab.research.google.com/assets/colab-badge.svg\" alt=\"Open In Colab\"/></a>"
      ]
    },
    {
      "cell_type": "code",
      "source": [
        "class Graph:\n",
        "    def __init__(self, vertices):\n",
        "        self.v = vertices\n",
        "        self.graph = [[0 for column in range(vertices)] for row in range(vertices)]\n",
        "\n",
        "    # A utility function to check if the current color assignment is safe for vertex v\n",
        "    def is_safe(self, v, color, c):\n",
        "        for i in range(self.v):\n",
        "            if self.graph[v][i] == 1 and color[i] == c:\n",
        "                return False\n",
        "        return True\n",
        "\n",
        "    # A recursive utility function to solve m-coloring problem\n",
        "    def graph_color_util(self, m, color, v):\n",
        "        if v == self.v:\n",
        "            return True\n",
        "\n",
        "        for c in range(1, m+1):\n",
        "            if self.is_safe(v, color, c):\n",
        "                color[v] = c\n",
        "                if self.graph_color_util(m, color, v+1):\n",
        "                    return True\n",
        "                color[v] = 0\n",
        "\n",
        "    def graph_coloring(self, m):\n",
        "        color = [0] * self.v\n",
        "        if not self.graph_color_util(m, color, 0):\n",
        "            return False\n",
        "\n",
        "        # Print the solution\n",
        "        print(\"Solution exists and following are the assigned colors:\")\n",
        "        for c in color:\n",
        "            print(c, end=\" \")\n",
        "        print() # Add a newline at the end for cleaner output\n",
        "        return True # Return True if a solution exists\n",
        "\n",
        "# Driver Code\n",
        "if __name__ == '__main__':\n",
        "    g = Graph(4)\n",
        "    g.graph = [[0, 1, 1, 1], [1, 0, 1, 0], [1, 1, 0, 1], [1, 0, 1, 0]]\n",
        "    m = 3\n",
        "    # Function call\n",
        "    g.graph_coloring(m)"
      ],
      "metadata": {
        "colab": {
          "base_uri": "https://localhost:8080/"
        },
        "id": "iirNUc7_ycWT",
        "outputId": "c63e6989-cb4c-44f3-b9ae-260dd4b5d3f8"
      },
      "execution_count": 21,
      "outputs": [
        {
          "output_type": "stream",
          "name": "stdout",
          "text": [
            "Solution exists and following are the assigned colors:\n",
            "1 2 3 2 \n"
          ]
        }
      ]
    }
  ]
}