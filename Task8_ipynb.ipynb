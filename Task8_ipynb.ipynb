{
  "nbformat": 4,
  "nbformat_minor": 0,
  "metadata": {
    "colab": {
      "provenance": [],
      "authorship_tag": "ABX9TyO8eJxKMFo72JM38vfbUMFT",
      "include_colab_link": true
    },
    "kernelspec": {
      "name": "python3",
      "display_name": "Python 3"
    },
    "language_info": {
      "name": "python"
    }
  },
  "cells": [
    {
      "cell_type": "markdown",
      "metadata": {
        "id": "view-in-github",
        "colab_type": "text"
      },
      "source": [
        "<a href=\"https://colab.research.google.com/github/SKMahammadSiraj007/AIT-Lab-tasks/blob/main/Task8_ipynb.ipynb\" target=\"_parent\"><img src=\"https://colab.research.google.com/assets/colab-badge.svg\" alt=\"Open In Colab\"/></a>"
      ]
    },
    {
      "cell_type": "code",
      "source": [
        "global N\n",
        "N = 4\n",
        "def printSolution(board):\n",
        "        for i in range(N):\n",
        "                for j in range(N):\n",
        "                        if board[i][j] == 1:\n",
        "                                print(\"Q\",end=\" \")\n",
        "                        else:\n",
        "                                print(\".\",end=\" \")\n",
        "                print()\n",
        "def isSafe(board, row, col):\n",
        "\n",
        "        # Check this row on left side\n",
        "        for i in range(col):\n",
        "                if board[row][i] == 1:\n",
        "                        return False\n",
        "\n",
        "        # Check upper diagonal on left side\n",
        "        for i, j in zip(range(row, -1, -1),\n",
        "                                        range(col, -1, -1)):\n",
        "                if board[i][j] == 1:\n",
        "                        return False\n",
        "        # Check lower diagonal on left side\n",
        "        for i, j in zip(range(row, N, 1),\n",
        "                                        range(col, -1, -1)):\n",
        "                if board[i][j] == 1:\n",
        "                        return False\n",
        "        return True\n",
        "def solveNQUtil(board, col):\n",
        "        # Base case: If all queens are placed\n",
        "        # then return true\n",
        "        if col >= N:\n",
        "                return True\n",
        "        # Consider this column and try placing\n",
        "        # this queen in all rows one by one\n",
        "        for i in range(N):\n",
        "                if isSafe(board, i, col):\n",
        "                        # Place this queen in board[i][col]\n",
        "                        board[i][col] = 1\n",
        "                        if solveNQUtil(board, col + 1) == True:\n",
        "                                return True\n",
        "                        board[i][col] = 0\n",
        "        return False\n",
        "def solveNQ():\n",
        "        board = [[0, 0, 0, 0],\n",
        "                        [0, 0, 0, 0],\n",
        "                        [0, 0, 0, 0],\n",
        "                        [0, 0, 0, 0]]\n",
        "        if solveNQUtil(board, 0) == False:\n",
        "                print(\"Solution does not exist\")\n",
        "                return False\n",
        "        printSolution(board)\n",
        "        return True\n",
        "# Driver Code\n",
        "if __name__ == '__main__':\n",
        "        solveNQ()"
      ],
      "metadata": {
        "colab": {
          "base_uri": "https://localhost:8080/"
        },
        "id": "qo3J9kPaztk-",
        "outputId": "9896ba15-b75b-4791-d5b6-405da9c93177"
      },
      "execution_count": 25,
      "outputs": [
        {
          "output_type": "stream",
          "name": "stdout",
          "text": [
            ". . Q . \n",
            "Q . . . \n",
            ". . . Q \n",
            ". Q . . \n"
          ]
        }
      ]
    }
  ]
}