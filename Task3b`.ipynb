{
  "nbformat": 4,
  "nbformat_minor": 0,
  "metadata": {
    "colab": {
      "provenance": [],
      "authorship_tag": "ABX9TyPMmnK/pfzwRGqK5VYyZAAl",
      "include_colab_link": true
    },
    "kernelspec": {
      "name": "python3",
      "display_name": "Python 3"
    },
    "language_info": {
      "name": "python"
    }
  },
  "cells": [
    {
      "cell_type": "markdown",
      "metadata": {
        "id": "view-in-github",
        "colab_type": "text"
      },
      "source": [
        "<a href=\"https://colab.research.google.com/github/SKMahammadSiraj007/AIT-Lab-tasks/blob/main/Task3b%60.ipynb\" target=\"_parent\"><img src=\"https://colab.research.google.com/assets/colab-badge.svg\" alt=\"Open In Colab\"/></a>"
      ]
    },
    {
      "cell_type": "code",
      "source": [
        "def aStarAlgo(start_node, stop_node):\n",
        "    open_set = set([start_node])\n",
        "    closed_set = set()\n",
        "    g = {}  # store distance from starting node\n",
        "    parents = {}  # parents contain an adjacency map of all nodes\n",
        "\n",
        "    # distance of starting node from itself is zero\n",
        "    g[start_node] = 0\n",
        "    # start_node is the root node, so it has no parent nodes\n",
        "    # so start_node is set to its own parent node\n",
        "    parents[start_node] = start_node\n",
        "\n",
        "    while len(open_set) > 0:\n",
        "        n = None\n",
        "        # node with the lowest f() is found\n",
        "        for v in open_set:\n",
        "            if n is None or g[v] + heuristic(v) < g[n] + heuristic(n):\n",
        "                n = v\n",
        "\n",
        "        if n == stop_node or n is None or n not in Graph_nodes:\n",
        "            break\n",
        "        else:\n",
        "            for m, weight in get_neighbors(n):\n",
        "                # nodes 'm' not in open_set and closed_set are added to open_set\n",
        "                # n is set as its parent\n",
        "                if m not in open_set and m not in closed_set:\n",
        "                    open_set.add(m)\n",
        "                    parents[m] = n\n",
        "                    g[m] = g[n] + weight\n",
        "                # for each node m, compare its distance from start i.e g(m)\n",
        "                # to the from start through n node\n",
        "                else:\n",
        "                    if g[m] > g[n] + weight:\n",
        "                        # update g(m)\n",
        "                        g[m] = g[n] + weight\n",
        "                        # change parent of m to n\n",
        "                        parents[m] = n\n",
        "                        # if m is in closed_set, remove and add to open_set\n",
        "                        if m in closed_set:\n",
        "                            closed_set.remove(m)\n",
        "                            open_set.add(m)\n",
        "\n",
        "        # remove n from the open_set and add it to closed_set\n",
        "        # because all of its neighbors were inspected\n",
        "        open_set.remove(n)\n",
        "        closed_set.add(n)\n",
        "\n",
        "    if n is None:\n",
        "        print('Path does not exist!')\n",
        "        return None\n",
        "\n",
        "    # if the current node is the stop_node,\n",
        "    # then we begin reconstructing the path from it to the start_node\n",
        "    if n == stop_node:\n",
        "        path = []\n",
        "        while parents[n] != n:\n",
        "            path.append(n)\n",
        "            n = parents[n]\n",
        "        path.append(start_node)\n",
        "        path.reverse()\n",
        "        print('Path found:', path)\n",
        "        return path\n",
        "\n",
        "    print('Path does not exist!')\n",
        "    return None\n",
        "\n",
        "# define function to return neighbors and their distances from the passed node\n",
        "def get_neighbors(v):\n",
        "    if v in Graph_nodes:\n",
        "        return Graph_nodes[v]\n",
        "    else:\n",
        "        return None\n",
        "\n",
        "# for simplicity, we'll consider heuristic distances given\n",
        "# and this function returns heuristic distance for all nodes\n",
        "def heuristic(n):\n",
        "    h_dist = {\n",
        "        'A': 11,\n",
        "        'B': 6,\n",
        "        'C': 99,\n",
        "        'D': 1,\n",
        "        'E': 7,\n",
        "        'G': 0\n",
        "    }\n",
        "    return h_dist[n]\n",
        "\n",
        "# Describe your graph here\n",
        "Graph_nodes = {\n",
        "    'A': [('B', 2), ('E', 3)],\n",
        "    'B': [('A', 2), ('C', 1), ('G', 9)],\n",
        "    'C': [('B', 1)],\n",
        "    'D': [('E', 6), ('G', 1)],\n",
        "    'E': [('A', 3), ('D', 6)],\n",
        "    'G': [('B', 9), ('D', 1)]\n",
        "}\n",
        "\n",
        "print(\"Following is the A* Algorithm:\")\n",
        "aStarAlgo('A', 'G')"
      ],
      "metadata": {
        "colab": {
          "base_uri": "https://localhost:8080/"
        },
        "id": "bRe96vymxVrf",
        "outputId": "39a6dec3-5b67-4502-b8da-9c2d96b703cc"
      },
      "execution_count": 14,
      "outputs": [
        {
          "output_type": "stream",
          "name": "stdout",
          "text": [
            "Following is the A* Algorithm:\n",
            "Path found: ['A', 'E', 'D', 'G']\n"
          ]
        },
        {
          "output_type": "execute_result",
          "data": {
            "text/plain": [
              "['A', 'E', 'D', 'G']"
            ]
          },
          "metadata": {},
          "execution_count": 14
        }
      ]
    }
  ]
}