{
  "nbformat": 4,
  "nbformat_minor": 0,
  "metadata": {
    "colab": {
      "provenance": [],
      "authorship_tag": "ABX9TyM79g9LufgABEA3DpJMfdFC",
      "include_colab_link": true
    },
    "kernelspec": {
      "name": "python3",
      "display_name": "Python 3"
    },
    "language_info": {
      "name": "python"
    }
  },
  "cells": [
    {
      "cell_type": "markdown",
      "metadata": {
        "id": "view-in-github",
        "colab_type": "text"
      },
      "source": [
        "<a href=\"https://colab.research.google.com/github/SKMahammadSiraj007/AIT-Lab-tasks/blob/main/Task7.ipynb\" target=\"_parent\"><img src=\"https://colab.research.google.com/assets/colab-badge.svg\" alt=\"Open In Colab\"/></a>"
      ]
    },
    {
      "cell_type": "code",
      "source": [
        "def move(subject, x1, x2):\n",
        "    return f\"Move {subject} from {x1} to {x2}\"\n",
        "\n",
        "def push_box(x1, x2):\n",
        "    return f\"Push box from {x1} to {x2}\"\n",
        "\n",
        "def climb_box(x, direction):\n",
        "    return f\"Climb box at {x} {direction}\"\n",
        "\n",
        "def have_banana(x):\n",
        "    return f\"Have banana at {x}\"\n",
        "\n",
        "# Initial State\n",
        "initial_state = {\n",
        "    'monkeyAt0': True,\n",
        "    'monkeyLevel': 'Down',\n",
        "    'bananaAt1': True,\n",
        "    'boxAt2': True\n",
        "}\n",
        "\n",
        "# Goal State\n",
        "goal_state = {\n",
        "    'GetBanana': True,\n",
        "    'at': 1\n",
        "}\n",
        "\n",
        "# Planning Algorithm\n",
        "def plan_actions(initial_state, goal_state):\n",
        "    actions = []\n",
        "\n",
        "    # Example planning algorithm to achieve the goal state\n",
        "    if initial_state['monkeyAt0'] and initial_state['bananaAt1']:\n",
        "        actions.append(move('Monkey', 0, 1))\n",
        "        actions.append(climb_box(1, 'Up'))\n",
        "        actions.append(have_banana(1))\n",
        "\n",
        "    return actions\n",
        "\n",
        "# Execute the planning algorithm\n",
        "actions = plan_actions(initial_state, goal_state)\n",
        "\n",
        "# Print the actions in the plan\n",
        "print(\"Plan:\")\n",
        "for action in actions:\n",
        "    print(action)"
      ],
      "metadata": {
        "colab": {
          "base_uri": "https://localhost:8080/"
        },
        "id": "3LcSyBqlzJpF",
        "outputId": "814c8c36-50de-412a-d8f1-3ccb5dfa0bc4"
      },
      "execution_count": 23,
      "outputs": [
        {
          "output_type": "stream",
          "name": "stdout",
          "text": [
            "Plan:\n",
            "Move Monkey from 0 to 1\n",
            "Climb box at 1 Up\n",
            "Have banana at 1\n"
          ]
        }
      ]
    }
  ]
}